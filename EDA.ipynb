{
 "cells": [
  {
   "cell_type": "code",
   "execution_count": 1,
   "metadata": {},
   "outputs": [],
   "source": [
    "import pandas as pd"
   ]
  },
  {
   "cell_type": "code",
   "execution_count": 2,
   "metadata": {},
   "outputs": [],
   "source": [
    "file_path = './dataset/AWARE_Social_Networking.csv'  # 替换为你的文件路径\n",
    "df = pd.read_csv(file_path)"
   ]
  },
  {
   "cell_type": "code",
   "execution_count": 3,
   "metadata": {},
   "outputs": [
    {
     "data": {
      "text/html": [
       "<div>\n",
       "<style scoped>\n",
       "    .dataframe tbody tr th:only-of-type {\n",
       "        vertical-align: middle;\n",
       "    }\n",
       "\n",
       "    .dataframe tbody tr th {\n",
       "        vertical-align: top;\n",
       "    }\n",
       "\n",
       "    .dataframe thead th {\n",
       "        text-align: right;\n",
       "    }\n",
       "</style>\n",
       "<table border=\"1\" class=\"dataframe\">\n",
       "  <thead>\n",
       "    <tr style=\"text-align: right;\">\n",
       "      <th></th>\n",
       "      <th>domain</th>\n",
       "      <th>app</th>\n",
       "      <th>review_id</th>\n",
       "      <th>sentence_id</th>\n",
       "      <th>title</th>\n",
       "      <th>review</th>\n",
       "      <th>sentence</th>\n",
       "      <th>rating</th>\n",
       "      <th>is_opinion</th>\n",
       "      <th>category</th>\n",
       "      <th>term</th>\n",
       "      <th>from</th>\n",
       "      <th>to</th>\n",
       "      <th>sentiment</th>\n",
       "    </tr>\n",
       "  </thead>\n",
       "  <tbody>\n",
       "    <tr>\n",
       "      <th>0</th>\n",
       "      <td>social networking</td>\n",
       "      <td>whatsapp-messenger</td>\n",
       "      <td>aa65ef9e-27c0-496e-be43-089c1b186ff9</td>\n",
       "      <td>00437139-ab26-4f42-8050-8b464b0a90cd</td>\n",
       "      <td>Need video call through WhatsApp Web</td>\n",
       "      <td>I like WhatsApp to talk to friends that aren’t...</td>\n",
       "      <td>I just drained about 15-20 percent of my phone...</td>\n",
       "      <td>4</td>\n",
       "      <td>True</td>\n",
       "      <td>efficiency</td>\n",
       "      <td>video call</td>\n",
       "      <td>67.0</td>\n",
       "      <td>77.0</td>\n",
       "      <td>negative</td>\n",
       "    </tr>\n",
       "    <tr>\n",
       "      <th>1</th>\n",
       "      <td>social networking</td>\n",
       "      <td>discord</td>\n",
       "      <td>fb8b4293-2956-446e-9181-02ed3ceff8ac</td>\n",
       "      <td>007ecad5-2bd1-47de-b94c-4c367b7e2c59</td>\n",
       "      <td>Sharing Screens</td>\n",
       "      <td>As a mobile user, it is unfortunate that we ca...</td>\n",
       "      <td>On an iPad Pro, I would honestly expect somewa...</td>\n",
       "      <td>4</td>\n",
       "      <td>True</td>\n",
       "      <td>effectiveness</td>\n",
       "      <td>share</td>\n",
       "      <td>52.0</td>\n",
       "      <td>57.0</td>\n",
       "      <td>negative</td>\n",
       "    </tr>\n",
       "    <tr>\n",
       "      <th>2</th>\n",
       "      <td>social networking</td>\n",
       "      <td>teamspeak-3</td>\n",
       "      <td>b9c54729-6dea-44da-877e-f1891cf977c6</td>\n",
       "      <td>0097e9d8-fe91-45d1-b66f-3e6cac36459e</td>\n",
       "      <td>Great!!</td>\n",
       "      <td>Does everything the desktop app does! Slight b...</td>\n",
       "      <td>Would be awesome if you could press the volume...</td>\n",
       "      <td>5</td>\n",
       "      <td>True</td>\n",
       "      <td>usability</td>\n",
       "      <td>volume</td>\n",
       "      <td>41.0</td>\n",
       "      <td>47.0</td>\n",
       "      <td>negative</td>\n",
       "    </tr>\n",
       "    <tr>\n",
       "      <th>3</th>\n",
       "      <td>social networking</td>\n",
       "      <td>free-tone-calling-texting</td>\n",
       "      <td>a4ffbcdb-2c02-4f95-a5d0-eb716055a709</td>\n",
       "      <td>00a23065-9b78-483b-8bf3-21f1fe59bad8</td>\n",
       "      <td>Deleted my credits and history, changed my number</td>\n",
       "      <td>I logged in today and my credits and history w...</td>\n",
       "      <td>I've always had trouble with the alerts not wo...</td>\n",
       "      <td>1</td>\n",
       "      <td>True</td>\n",
       "      <td>reliability</td>\n",
       "      <td>phone call</td>\n",
       "      <td>66.0</td>\n",
       "      <td>76.0</td>\n",
       "      <td>negative</td>\n",
       "    </tr>\n",
       "    <tr>\n",
       "      <th>4</th>\n",
       "      <td>social networking</td>\n",
       "      <td>discord</td>\n",
       "      <td>86ed17e1-571f-47ba-b405-d2b7991a3a42</td>\n",
       "      <td>0172311b-9191-45f5-a119-8bab09e21358</td>\n",
       "      <td>Wow!</td>\n",
       "      <td>I’ve been using Skype for years as a gamer, an...</td>\n",
       "      <td>But the mobile recent update just killed it.</td>\n",
       "      <td>5</td>\n",
       "      <td>True</td>\n",
       "      <td>general</td>\n",
       "      <td>recent update</td>\n",
       "      <td>16.0</td>\n",
       "      <td>29.0</td>\n",
       "      <td>negative</td>\n",
       "    </tr>\n",
       "  </tbody>\n",
       "</table>\n",
       "</div>"
      ],
      "text/plain": [
       "              domain                        app  \\\n",
       "0  social networking         whatsapp-messenger   \n",
       "1  social networking                    discord   \n",
       "2  social networking                teamspeak-3   \n",
       "3  social networking  free-tone-calling-texting   \n",
       "4  social networking                    discord   \n",
       "\n",
       "                              review_id                           sentence_id  \\\n",
       "0  aa65ef9e-27c0-496e-be43-089c1b186ff9  00437139-ab26-4f42-8050-8b464b0a90cd   \n",
       "1  fb8b4293-2956-446e-9181-02ed3ceff8ac  007ecad5-2bd1-47de-b94c-4c367b7e2c59   \n",
       "2  b9c54729-6dea-44da-877e-f1891cf977c6  0097e9d8-fe91-45d1-b66f-3e6cac36459e   \n",
       "3  a4ffbcdb-2c02-4f95-a5d0-eb716055a709  00a23065-9b78-483b-8bf3-21f1fe59bad8   \n",
       "4  86ed17e1-571f-47ba-b405-d2b7991a3a42  0172311b-9191-45f5-a119-8bab09e21358   \n",
       "\n",
       "                                               title  \\\n",
       "0               Need video call through WhatsApp Web   \n",
       "1                                    Sharing Screens   \n",
       "2                                            Great!!   \n",
       "3  Deleted my credits and history, changed my number   \n",
       "4                                               Wow!   \n",
       "\n",
       "                                              review  \\\n",
       "0  I like WhatsApp to talk to friends that aren’t...   \n",
       "1  As a mobile user, it is unfortunate that we ca...   \n",
       "2  Does everything the desktop app does! Slight b...   \n",
       "3  I logged in today and my credits and history w...   \n",
       "4  I’ve been using Skype for years as a gamer, an...   \n",
       "\n",
       "                                            sentence  rating  is_opinion  \\\n",
       "0  I just drained about 15-20 percent of my phone...       4        True   \n",
       "1  On an iPad Pro, I would honestly expect somewa...       4        True   \n",
       "2  Would be awesome if you could press the volume...       5        True   \n",
       "3  I've always had trouble with the alerts not wo...       1        True   \n",
       "4       But the mobile recent update just killed it.       5        True   \n",
       "\n",
       "        category           term  from    to sentiment  \n",
       "0     efficiency     video call  67.0  77.0  negative  \n",
       "1  effectiveness          share  52.0  57.0  negative  \n",
       "2      usability         volume  41.0  47.0  negative  \n",
       "3    reliability     phone call  66.0  76.0  negative  \n",
       "4        general  recent update  16.0  29.0  negative  "
      ]
     },
     "execution_count": 3,
     "metadata": {},
     "output_type": "execute_result"
    }
   ],
   "source": [
    "df.head()"
   ]
  },
  {
   "cell_type": "code",
   "execution_count": 4,
   "metadata": {},
   "outputs": [
    {
     "data": {
      "text/plain": [
       "<bound method DataFrame.info of                  domain                        app  \\\n",
       "0     social networking         whatsapp-messenger   \n",
       "1     social networking                    discord   \n",
       "2     social networking                teamspeak-3   \n",
       "3     social networking  free-tone-calling-texting   \n",
       "4     social networking                    discord   \n",
       "...                 ...                        ...   \n",
       "3113  social networking                teamspeak-3   \n",
       "3114  social networking                teamspeak-3   \n",
       "3115  social networking                   facebook   \n",
       "3116  social networking                   facebook   \n",
       "3117  social networking  free-tone-calling-texting   \n",
       "\n",
       "                                 review_id  \\\n",
       "0     aa65ef9e-27c0-496e-be43-089c1b186ff9   \n",
       "1     fb8b4293-2956-446e-9181-02ed3ceff8ac   \n",
       "2     b9c54729-6dea-44da-877e-f1891cf977c6   \n",
       "3     a4ffbcdb-2c02-4f95-a5d0-eb716055a709   \n",
       "4     86ed17e1-571f-47ba-b405-d2b7991a3a42   \n",
       "...                                    ...   \n",
       "3113  ff962f35-ad89-4800-a1b4-b00d99c2e662   \n",
       "3114  941c679a-5783-45cf-9c38-4cbbbc43141d   \n",
       "3115  7409684d-2bd8-488e-89a6-b49006fba5cd   \n",
       "3116  40d1d853-19a2-43a5-b311-40420856d105   \n",
       "3117  8100cc03-376b-4a25-b914-f5c017b1238a   \n",
       "\n",
       "                               sentence_id  \\\n",
       "0     00437139-ab26-4f42-8050-8b464b0a90cd   \n",
       "1     007ecad5-2bd1-47de-b94c-4c367b7e2c59   \n",
       "2     0097e9d8-fe91-45d1-b66f-3e6cac36459e   \n",
       "3     00a23065-9b78-483b-8bf3-21f1fe59bad8   \n",
       "4     0172311b-9191-45f5-a119-8bab09e21358   \n",
       "...                                    ...   \n",
       "3113  6c509ca1-62bc-47ae-ac24-1615ff1e9740   \n",
       "3114  59b4e84d-6da2-411f-b553-65f7766de368   \n",
       "3115  f3939e00-3a8b-44d9-88d9-549767bed549   \n",
       "3116  c7ae182c-9d30-49b3-a91c-6239d2314ef5   \n",
       "3117  8dfb18fe-c76d-4505-bdf5-355b21c2a88d   \n",
       "\n",
       "                                                  title  \\\n",
       "0                  Need video call through WhatsApp Web   \n",
       "1                                       Sharing Screens   \n",
       "2                                               Great!!   \n",
       "3     Deleted my credits and history, changed my number   \n",
       "4                                                  Wow!   \n",
       "...                                                 ...   \n",
       "3113                                       Major Issues   \n",
       "3114                                DO NOT BUY this app   \n",
       "3115       App won’t open on iPad Mini 2 running iOS 12   \n",
       "3116                    Very Disappointed in Facebook!!   \n",
       "3117                          Conversations Disappear?!   \n",
       "\n",
       "                                                 review  \\\n",
       "0     I like WhatsApp to talk to friends that aren’t...   \n",
       "1     As a mobile user, it is unfortunate that we ca...   \n",
       "2     Does everything the desktop app does! Slight b...   \n",
       "3     I logged in today and my credits and history w...   \n",
       "4     I’ve been using Skype for years as a gamer, an...   \n",
       "...                                                 ...   \n",
       "3113  Man DON’T update to latest version. My phone d...   \n",
       "3114  Save your money, cuz it's buggy af!  It keeps ...   \n",
       "3115  The Facebook app shows that it was updated tod...   \n",
       "3116  I have been on Facebook for a very long time. ...   \n",
       "3117  Latest update has more issues than the most re...   \n",
       "\n",
       "                                               sentence  rating  is_opinion  \\\n",
       "0     I just drained about 15-20 percent of my phone...       4        True   \n",
       "1     On an iPad Pro, I would honestly expect somewa...       4        True   \n",
       "2     Would be awesome if you could press the volume...       5        True   \n",
       "3     I've always had trouble with the alerts not wo...       1        True   \n",
       "4          But the mobile recent update just killed it.       5        True   \n",
       "...                                                 ...     ...         ...   \n",
       "3113                Man DON’T update to latest version.       1        True   \n",
       "3114                Save your money, cuz it's buggy af!       2        True   \n",
       "3115              Why does this app store so much data?       1        True   \n",
       "3116  How can a social media just wipe your entire a...       1        True   \n",
       "3117  (Continue to experience disappearing conversat...       1        True   \n",
       "\n",
       "           category           term  from    to sentiment  \n",
       "0        efficiency     video call  67.0  77.0  negative  \n",
       "1     effectiveness          share  52.0  57.0  negative  \n",
       "2         usability         volume  41.0  47.0  negative  \n",
       "3       reliability     phone call  66.0  76.0  negative  \n",
       "4           general  recent update  16.0  29.0  negative  \n",
       "...             ...            ...   ...   ...       ...  \n",
       "3113        general        version  28.0  35.0  negative  \n",
       "3114        general            NaN   NaN   NaN  negative  \n",
       "3115     efficiency           data  33.0  37.0  negative  \n",
       "3116    reliability        account  46.0  53.0  negative  \n",
       "3117    reliability   conversation  38.0  50.0  negative  \n",
       "\n",
       "[3118 rows x 14 columns]>"
      ]
     },
     "execution_count": 4,
     "metadata": {},
     "output_type": "execute_result"
    }
   ],
   "source": [
    "df.info"
   ]
  },
  {
   "cell_type": "code",
   "execution_count": 5,
   "metadata": {},
   "outputs": [
    {
     "data": {
      "text/plain": [
       "<bound method NDFrame.describe of 0          video call\n",
       "1               share\n",
       "2              volume\n",
       "3          phone call\n",
       "4       recent update\n",
       "            ...      \n",
       "3113          version\n",
       "3114              NaN\n",
       "3115             data\n",
       "3116          account\n",
       "3117     conversation\n",
       "Name: term, Length: 3118, dtype: object>"
      ]
     },
     "execution_count": 5,
     "metadata": {},
     "output_type": "execute_result"
    }
   ],
   "source": [
    "df['term'].describe"
   ]
  },
  {
   "cell_type": "code",
   "execution_count": 7,
   "metadata": {},
   "outputs": [],
   "source": [
    "import klib"
   ]
  },
  {
   "cell_type": "code",
   "execution_count": 11,
   "metadata": {},
   "outputs": [
    {
     "ename": "TypeError",
     "evalue": "'module' object is not callable",
     "output_type": "error",
     "traceback": [
      "\u001b[1;31m---------------------------------------------------------------------------\u001b[0m",
      "\u001b[1;31mTypeError\u001b[0m                                 Traceback (most recent call last)",
      "\u001b[1;32md:\\PythonProject\\pyabsa-tranfer-station\\EDA.ipynb Cell 7\u001b[0m line \u001b[0;36m1\n\u001b[1;32m----> <a href='vscode-notebook-cell:/d%3A/PythonProject/pyabsa-tranfer-station/EDA.ipynb#X11sZmlsZQ%3D%3D?line=0'>1</a>\u001b[0m klib\u001b[39m.\u001b[39;49mdescribe(df[\u001b[39m'\u001b[39;49m\u001b[39mterm\u001b[39;49m\u001b[39m'\u001b[39;49m])\n",
      "\u001b[1;31mTypeError\u001b[0m: 'module' object is not callable"
     ]
    }
   ],
   "source": [
    "klib.describe(df['term'])"
   ]
  },
  {
   "cell_type": "code",
   "execution_count": 10,
   "metadata": {},
   "outputs": [
    {
     "data": {
      "text/plain": [
       "GridSpec(6, 1)"
      ]
     },
     "execution_count": 10,
     "metadata": {},
     "output_type": "execute_result"
    },
    {
     "data": {
      "image/png": "[encoded data removed]",
      "text/plain": [
       "<Figure size 1800x1800 with 3 Axes>"
      ]
     },
     "metadata": {},
     "output_type": "display_data"
    }
   ],
   "source": [
    "klib.cat_plot(df['term']) # representation of the 4 most & least common values in each categorical column"
   ]
  },
  {
   "cell_type": "code",
   "execution_count": 13,
   "metadata": {},
   "outputs": [
    {
     "name": "stdout",
     "output_type": "stream",
     "text": [
      "18\n"
     ]
    }
   ],
   "source": [
    "num_nan = df['term'].isna().sum()\n",
    "print(num_nan)"
   ]
  },
  {
   "cell_type": "code",
   "execution_count": 17,
   "metadata": {},
   "outputs": [
    {
     "name": "stdout",
     "output_type": "stream",
     "text": [
      "0.005806451612903226\n"
     ]
    }
   ],
   "source": [
    "total=df['term'].count()\n",
    "present = num_nan/total\n",
    "print(present)"
   ]
  },
  {
   "cell_type": "code",
   "execution_count": null,
   "metadata": {},
   "outputs": [],
   "source": []
  }
 ],
 "metadata": {
  "kernelspec": {
   "display_name": "PyTorch",
   "language": "python",
   "name": "pytorch"
  },
  "language_info": {
   "codemirror_mode": {
    "name": "ipython",
    "version": 3
   },
   "file_extension": ".py",
   "mimetype": "text/x-python",
   "name": "python",
   "nbconvert_exporter": "python",
   "pygments_lexer": "ipython3",
   "version": "3.9.15"
  }
 },
 "nbformat": 4,
 "nbformat_minor": 2
}
